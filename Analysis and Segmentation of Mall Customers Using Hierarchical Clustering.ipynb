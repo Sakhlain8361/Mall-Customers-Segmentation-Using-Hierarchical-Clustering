{
 "cells": [
  {
   "cell_type": "markdown",
   "id": "e9c3ed27-09cb-469c-a015-822e44426ccb",
   "metadata": {},
   "source": [
    "# Hierarchical Clustering - Mall Customers Dataset\n"
   ]
  },
  {
   "cell_type": "markdown",
   "id": "45240c7a-bfdd-4488-b257-cf9f42c14594",
   "metadata": {},
   "source": [
    "\n",
    "\n",
    "## 1. Introduction\n",
    "\n",
    "In this project, we perform hierarchical clustering on a dataset of mall customers to segment them into different clusters based on their purchasing behavior. The goal of this analysis is to discover patterns or trends within the customer data that may help in decision-making for targeted marketing, personalized offers, etc.\n",
    "\n",
    "### Libraries Used:\n",
    "- **pandas**: For data manipulation and cleaning.\n",
    "- **numpy**: For numerical operations.\n",
    "- **matplotlib** & **seaborn**: For data visualization and analysis.\n",
    "- **sklearn**: For performing hierarchical clustering and model evaluation.\n",
    "- **scipy**: For hierarchical clustering (linkage function).\n",
    "\n",
    "```python\n",
    "\n",
    "import pandas as pd\n",
    "import numpy as np\n",
    "import matplotlib.pyplot as plt\n",
    "import seaborn as sns\n",
    "from sklearn.preprocessing import StandardScaler\n",
    "from sklearn.cluster import AgglomerativeClustering\n",
    "from scipy.cluster.hierarchy import dendrogram, linkage\n"
   ]
  },
  {
   "cell_type": "markdown",
   "id": "b0cd0b62-9bd5-4e47-9a3a-49801f2ee209",
   "metadata": {},
   "source": [
    "## 2. Dataset Overview"
   ]
  },
  {
   "cell_type": "markdown",
   "id": "a3541a9a-2244-4c72-9241-25d7129de029",
   "metadata": {},
   "source": [
    "The dataset consists of information about various customers of a mall, including their spending habits and demographic features. Below are the columns available in the dataset:\n",
    "\n",
    "- **CustomerID**: Unique identifier for each customer.\n",
    "\n",
    "- **Annual Income**: The yearly income of the customer.\n",
    "\n",
    "- **Spending Score**: A score assigned to the customer based on their spending behavior.\n",
    "\n",
    "- **Age**: The age of the customer.\n",
    "\n",
    "We will use these features to perform clustering and group customers into segments.\n",
    "\n",
    "```python\n",
    "\n",
    "df = pd.read_csv('Mall_Customers.csv')\n",
    "df.head()\n"
   ]
  },
  {
   "cell_type": "markdown",
   "id": "5b4f21a8-5988-44e1-b848-9da72a74e92a",
   "metadata": {},
   "source": [
    "## 3. Data Exploration"
   ]
  },
  {
   "cell_type": "markdown",
   "id": "faac786e-2092-40fc-896e-2b1214a86ab6",
   "metadata": {},
   "source": [
    "Let's take a look at the structure of the data and perform some basic analysis."
   ]
  },
  {
   "cell_type": "markdown",
   "id": "1992afbb-cff6-4eb6-992a-95b5765abd4e",
   "metadata": {},
   "source": [
    "### 3.1 Basic Analysis"
   ]
  },
  {
   "cell_type": "markdown",
   "id": "76735711-1eee-489f-a8cb-b7c4b126d860",
   "metadata": {},
   "source": [
    "We will first check the first few records, data types, and summary statistics.\n",
    "\n",
    "```python\n",
    "\n",
    "df.info()  # Information about the dataset\n",
    "df.describe()  # Summary statistics\n",
    "\n",
    "\n"
   ]
  },
  {
   "cell_type": "markdown",
   "id": "6a341d06-77e9-4d3a-884f-21eb135653c3",
   "metadata": {},
   "source": [
    "## 3.2 Check for Missing Values"
   ]
  },
  {
   "cell_type": "markdown",
   "id": "5204972f-2452-455b-b535-85a7c48bc1c1",
   "metadata": {},
   "source": [
    "It's important to check if there are any missing values in the dataset.\n",
    "\n",
    "```python\n",
    "\n",
    "df.isnull().sum()  # Check for missing values\n"
   ]
  },
  {
   "cell_type": "markdown",
   "id": "3d0edff6-3ba9-4a34-9796-a76a7e7ca3a9",
   "metadata": {},
   "source": [
    "### 3.3 Data Visualization"
   ]
  },
  {
   "cell_type": "markdown",
   "id": "bcf824f4-3c9d-47b7-964f-fbf936381239",
   "metadata": {},
   "source": [
    "We can visualize the relationships between the features using scatter plots and pair plots.\n",
    "\n",
    "```python\n",
    "\n",
    "sns.pairplot(df[['Annual Income', 'Spending Score', 'Age']])\n",
    "plt.show()\n"
   ]
  },
  {
   "cell_type": "markdown",
   "id": "200bd979-b817-434a-8494-13210906dc4f",
   "metadata": {},
   "source": [
    "## 4. Data Preprocessing"
   ]
  },
  {
   "cell_type": "markdown",
   "id": "65b03200-34df-40e4-942b-ef1f2b3a6f05",
   "metadata": {},
   "source": [
    "Before performing clustering, we need to preprocess the data by scaling it so that each feature contributes equally to the clustering process."
   ]
  },
  {
   "cell_type": "markdown",
   "id": "1cbc654e-e21e-437d-a1bf-cf22f83b913d",
   "metadata": {},
   "source": [
    "### 4.1 Scaling the Data"
   ]
  },
  {
   "cell_type": "markdown",
   "id": "4818593d-8775-4410-b21f-5ae83fd8c10e",
   "metadata": {},
   "source": [
    "We will scale the features using StandardScaler to standardize them.\n",
    "\n",
    "```python\n",
    "\n",
    "scaler = StandardScaler()\n",
    "df_scaled = scaler.fit_transform(df[['Annual Income', 'Spending Score', 'Age']])\n"
   ]
  },
  {
   "cell_type": "markdown",
   "id": "cad47dab-aa42-424d-99e2-d7634c2d8f3b",
   "metadata": {},
   "source": [
    "## 5. Hierarchical Clustering"
   ]
  },
  {
   "cell_type": "markdown",
   "id": "b9c786ec-2262-4e0b-baca-e845f6635e17",
   "metadata": {},
   "source": [
    "### 5.1 Dendrogram"
   ]
  },
  {
   "cell_type": "markdown",
   "id": "9c1320e3-2d4b-4041-ba76-9a72fcc047c1",
   "metadata": {},
   "source": [
    "We will plot the dendrogram to determine the number of clusters to form. This will give us insights into the distances at which clusters merge.\n",
    "\n",
    "\n",
    "```python\n",
    "\n",
    "linked = linkage(df_scaled, method='ward')  # Hierarchical clustering using Ward's method\n",
    "plt.figure(figsize=(10, 7))\n",
    "dendrogram(linked)\n",
    "plt.show()\n"
   ]
  },
  {
   "cell_type": "markdown",
   "id": "aee39afc-c37d-4649-8b1f-b7a25ecf34c1",
   "metadata": {},
   "source": [
    "### 5.2 Create the Clusters"
   ]
  },
  {
   "cell_type": "markdown",
   "id": "64af1a7d-ca72-4a72-84fe-5bb6dbdc0bb2",
   "metadata": {},
   "source": [
    "Based on the dendrogram, we will decide the number of clusters. For example, let’s assume we choose 5 clusters.\n",
    "\n",
    "\n",
    "```python\n",
    "\n",
    "hierarchical = AgglomerativeClustering(n_clusters=5, affinity='euclidean', linkage='ward')\n",
    "df['Cluster'] = hierarchical.fit_predict(df_scaled)\n"
   ]
  },
  {
   "cell_type": "markdown",
   "id": "9bdf5f2b-152f-4e93-adee-aa113d60bb5e",
   "metadata": {},
   "source": [
    "### 5.3 Visualize the Clusters"
   ]
  },
  {
   "cell_type": "markdown",
   "id": "1282f889-e094-4bf9-9e46-b858b48d061a",
   "metadata": {},
   "source": [
    "Let's visualize the clusters by plotting the scatter plot.\n",
    "\n",
    "```python\n",
    "\n",
    "plt.figure(figsize=(8, 6))\n",
    "sns.scatterplot(data=df, x='Annual Income', y='Spending Score', hue='Cluster', palette='Set1')\n",
    "plt.title('Hierarchical Clustering of Mall Customers')\n",
    "plt.show()\n"
   ]
  },
  {
   "cell_type": "markdown",
   "id": "4325254e-917d-44ce-b34b-0e29558bdcbc",
   "metadata": {},
   "source": [
    "## 6. Model Evaluation"
   ]
  },
  {
   "cell_type": "markdown",
   "id": "d996c3c7-fc63-4182-a72b-4f60b9923d99",
   "metadata": {},
   "source": [
    "In hierarchical clustering, model evaluation is usually done based on the separation of clusters. Since we don't have predefined labels, evaluating the clustering is subjective. We will focus on the cluster distribution and separability."
   ]
  },
  {
   "cell_type": "markdown",
   "id": "dc957d8f-2a91-4b8b-8d31-f5e65f098a03",
   "metadata": {},
   "source": [
    "### 6.1 Cluster Distribution"
   ]
  },
  {
   "cell_type": "markdown",
   "id": "3fcecc67-716b-47c3-9e23-ca4c7bef41f6",
   "metadata": {},
   "source": [
    "We can check the distribution of customers in each cluster.\n",
    "\n",
    "```python\n",
    "\n",
    "df['Cluster'].value_counts()\n"
   ]
  },
  {
   "cell_type": "markdown",
   "id": "63ac59da-14cf-4be5-bd92-97c8914a5db6",
   "metadata": {},
   "source": [
    "## 7. Conclusion"
   ]
  },
  {
   "cell_type": "markdown",
   "id": "326312da-9fb7-4d5f-b012-6ce40b524994",
   "metadata": {},
   "source": [
    "### Summary"
   ]
  },
  {
   "cell_type": "markdown",
   "id": "d9274131-b8b4-4b99-8e5f-402a27bea954",
   "metadata": {},
   "source": [
    "- **Dataset**: The dataset contains information about mall customers, including their annual income, spending score, and age.\n",
    "\n",
    "- **Clustering Method**: We used hierarchical clustering with Ward's linkage method to group the customers into 5 clusters.\n",
    "\n",
    "- **Evaluation**: The clusters were analyzed based on their separation and distribution, with no clear predefined labels to assess accuracy."
   ]
  },
  {
   "cell_type": "markdown",
   "id": "e0f20e3a-6134-40e3-849e-f14718df638b",
   "metadata": {},
   "source": [
    "### Insights"
   ]
  },
  {
   "cell_type": "markdown",
   "id": "35ffb9a0-bcf4-448d-9357-2c3727c1ec98",
   "metadata": {},
   "source": [
    "- Customers in the same cluster show similar spending behaviors and income levels.\n",
    "\n",
    "- The clustering can be used for targeted marketing and improving customer service strategies."
   ]
  },
  {
   "cell_type": "code",
   "execution_count": null,
   "id": "151ccac9-0f67-4ad9-866a-5230ef7f6c3d",
   "metadata": {},
   "outputs": [],
   "source": []
  }
 ],
 "metadata": {
  "kernelspec": {
   "display_name": "Python 3 (ipykernel)",
   "language": "python",
   "name": "python3"
  },
  "language_info": {
   "codemirror_mode": {
    "name": "ipython",
    "version": 3
   },
   "file_extension": ".py",
   "mimetype": "text/x-python",
   "name": "python",
   "nbconvert_exporter": "python",
   "pygments_lexer": "ipython3",
   "version": "3.12.4"
  }
 },
 "nbformat": 4,
 "nbformat_minor": 5
}
